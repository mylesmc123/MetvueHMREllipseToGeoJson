{
 "cells": [
  {
   "cell_type": "code",
   "execution_count": 2,
   "metadata": {},
   "outputs": [
    {
     "data": {
      "text/html": [
       "<div>\n",
       "<style scoped>\n",
       "    .dataframe tbody tr th:only-of-type {\n",
       "        vertical-align: middle;\n",
       "    }\n",
       "\n",
       "    .dataframe tbody tr th {\n",
       "        vertical-align: top;\n",
       "    }\n",
       "\n",
       "    .dataframe thead th {\n",
       "        text-align: right;\n",
       "    }\n",
       "</style>\n",
       "<table border=\"1\" class=\"dataframe\">\n",
       "  <thead>\n",
       "    <tr style=\"text-align: right;\">\n",
       "      <th></th>\n",
       "      <th>i</th>\n",
       "      <th>PRECIP</th>\n",
       "      <th>geometry</th>\n",
       "    </tr>\n",
       "  </thead>\n",
       "  <tbody>\n",
       "    <tr>\n",
       "      <th>0</th>\n",
       "      <td>0</td>\n",
       "      <td>53.756687</td>\n",
       "      <td>POINT (-10597401.790 3448413.006)</td>\n",
       "    </tr>\n",
       "    <tr>\n",
       "      <th>1</th>\n",
       "      <td>1</td>\n",
       "      <td>53.756687</td>\n",
       "      <td>POINT (-10592161.467 3449289.050)</td>\n",
       "    </tr>\n",
       "    <tr>\n",
       "      <th>2</th>\n",
       "      <td>2</td>\n",
       "      <td>53.756687</td>\n",
       "      <td>POINT (-10592213.002 3449464.674)</td>\n",
       "    </tr>\n",
       "    <tr>\n",
       "      <th>3</th>\n",
       "      <td>3</td>\n",
       "      <td>53.756687</td>\n",
       "      <td>POINT (-10592303.862 3449630.690)</td>\n",
       "    </tr>\n",
       "    <tr>\n",
       "      <th>4</th>\n",
       "      <td>4</td>\n",
       "      <td>53.756687</td>\n",
       "      <td>POINT (-10592433.400 3449785.973)</td>\n",
       "    </tr>\n",
       "  </tbody>\n",
       "</table>\n",
       "</div>"
      ],
      "text/plain": [
       "   i     PRECIP                           geometry\n",
       "0  0  53.756687  POINT (-10597401.790 3448413.006)\n",
       "1  1  53.756687  POINT (-10592161.467 3449289.050)\n",
       "2  2  53.756687  POINT (-10592213.002 3449464.674)\n",
       "3  3  53.756687  POINT (-10592303.862 3449630.690)\n",
       "4  4  53.756687  POINT (-10592433.400 3449785.973)"
      ]
     },
     "execution_count": 2,
     "metadata": {},
     "output_type": "execute_result"
    }
   ],
   "source": [
    "import numpy as np\r\n",
    "import geopandas as gpd\r\n",
    "import contextily as ctx\r\n",
    "import matplotlib.pyplot as plt\r\n",
    "from shapely.ops import cascaded_union\r\n",
    "from geovoronoi.plotting import subplot_for_map, plot_voronoi_polys_with_points_in_area\r\n",
    "from geovoronoi import voronoi_regions_from_coords, points_to_coords\r\n",
    "# gdf = gpd.read_file(r\"C:\\Users\\Myles.McManus\\Documents\\Working\\temp\\100yrEllipsePoints.shp\")\r\n",
    "gdf = gpd.read_file(r\"C:\\Users\\Myles.McManus\\Documents\\Working\\temp\\100yrEllipsePoints_projected.shp\")\r\n",
    "gdf.head()\r\n",
    "\r\n"
   ]
  },
  {
   "cell_type": "code",
   "execution_count": 3,
   "metadata": {},
   "outputs": [
    {
     "data": {
      "text/plain": [
       "<Projected CRS: EPSG:3857>\n",
       "Name: WGS 84 / Pseudo-Mercator\n",
       "Axis Info [cartesian]:\n",
       "- X[east]: Easting (metre)\n",
       "- Y[north]: Northing (metre)\n",
       "Area of Use:\n",
       "- name: World between 85.06°S and 85.06°N.\n",
       "- bounds: (-180.0, -85.06, 180.0, 85.06)\n",
       "Coordinate Operation:\n",
       "- name: Popular Visualisation Pseudo-Mercator\n",
       "- method: Popular Visualisation Pseudo Mercator\n",
       "Datum: World Geodetic System 1984 ensemble\n",
       "- Ellipsoid: WGS 84\n",
       "- Prime Meridian: Greenwich"
      ]
     },
     "execution_count": 3,
     "metadata": {},
     "output_type": "execute_result"
    }
   ],
   "source": [
    "gdf.crs\r\n",
    "# gdf.to_crs(epsg=4326)\r\n",
    "\r\n",
    "# boundary = boundary.to_crs(epsg=3395)"
   ]
  },
  {
   "cell_type": "code",
   "execution_count": 4,
   "metadata": {},
   "outputs": [
    {
     "data": {
      "text/plain": [
       "<Projected CRS: EPSG:3857>\n",
       "Name: WGS 84 / Pseudo-Mercator\n",
       "Axis Info [cartesian]:\n",
       "- X[east]: Easting (metre)\n",
       "- Y[north]: Northing (metre)\n",
       "Area of Use:\n",
       "- name: World between 85.06°S and 85.06°N.\n",
       "- bounds: (-180.0, -85.06, 180.0, 85.06)\n",
       "Coordinate Operation:\n",
       "- name: Popular Visualisation Pseudo-Mercator\n",
       "- method: Popular Visualisation Pseudo Mercator\n",
       "Datum: World Geodetic System 1984 ensemble\n",
       "- Ellipsoid: WGS 84\n",
       "- Prime Meridian: Greenwich"
      ]
     },
     "execution_count": 4,
     "metadata": {},
     "output_type": "execute_result"
    }
   ],
   "source": [
    "gdf.crs"
   ]
  },
  {
   "cell_type": "code",
   "execution_count": 5,
   "metadata": {},
   "outputs": [
    {
     "data": {
      "text/plain": [
       "<AxesSubplot:>"
      ]
     },
     "execution_count": 5,
     "metadata": {},
     "output_type": "execute_result"
    },
    {
     "data": {
      "image/png": "[encoded data removed]",
      "text/plain": [
       "<Figure size 432x288 with 1 Axes>"
      ]
     },
     "metadata": {
      "needs_background": "light"
     },
     "output_type": "display_data"
    }
   ],
   "source": [
    "boundary = gpd.read_file(r\"C:\\Users\\Myles.McManus\\Documents\\Working\\GLO\\GIS\\_Municipalities\\cb_2018_us_state_500k\\cb_2018_us_state_500k.shp\")\r\n",
    "boundary.to_crs(epsg=4326)\r\n",
    "# boundary = gpd.read_file(r\"C:\\Users\\Myles.McManus\\Documents\\Working\\temp\\Dickinson Bayou.shp\")\r\n",
    "# boundary.to_crs(epsg=4326)\r\n",
    "# fig, ax = plt.plot(figsize=(12, 10))\r\n",
    "# boundary.plot(ax=ax, color='gray')\r\n",
    "# gdf.plot(ax=ax, markersize=3.5, color='black')\r\n",
    "# ax.axis('off')\r\n",
    "# plt.axis('equal')\r\n",
    "# plt.show()\r\n",
    "# base = boundary.plot(color='white', edgecolor='black')\r\n",
    "\r\n",
    "# base.plot(ax=gdf, marker='o', color='red', markersize=0.1)\r\n",
    "gdf.plot(marker='o', color='red', markersize=0.1)"
   ]
  },
  {
   "cell_type": "code",
   "execution_count": 6,
   "metadata": {},
   "outputs": [
    {
     "data": {
      "text/html": [
       "<div>\n",
       "<style scoped>\n",
       "    .dataframe tbody tr th:only-of-type {\n",
       "        vertical-align: middle;\n",
       "    }\n",
       "\n",
       "    .dataframe tbody tr th {\n",
       "        vertical-align: top;\n",
       "    }\n",
       "\n",
       "    .dataframe thead th {\n",
       "        text-align: right;\n",
       "    }\n",
       "</style>\n",
       "<table border=\"1\" class=\"dataframe\">\n",
       "  <thead>\n",
       "    <tr style=\"text-align: right;\">\n",
       "      <th></th>\n",
       "      <th>i</th>\n",
       "      <th>PRECIP</th>\n",
       "      <th>geometry</th>\n",
       "    </tr>\n",
       "  </thead>\n",
       "  <tbody>\n",
       "    <tr>\n",
       "      <th>0</th>\n",
       "      <td>0</td>\n",
       "      <td>53.756687</td>\n",
       "      <td>POINT (-10597401.790 3448413.006)</td>\n",
       "    </tr>\n",
       "    <tr>\n",
       "      <th>1</th>\n",
       "      <td>1</td>\n",
       "      <td>53.756687</td>\n",
       "      <td>POINT (-10592161.467 3449289.050)</td>\n",
       "    </tr>\n",
       "    <tr>\n",
       "      <th>2</th>\n",
       "      <td>2</td>\n",
       "      <td>53.756687</td>\n",
       "      <td>POINT (-10592213.002 3449464.674)</td>\n",
       "    </tr>\n",
       "    <tr>\n",
       "      <th>3</th>\n",
       "      <td>3</td>\n",
       "      <td>53.756687</td>\n",
       "      <td>POINT (-10592303.862 3449630.690)</td>\n",
       "    </tr>\n",
       "    <tr>\n",
       "      <th>4</th>\n",
       "      <td>4</td>\n",
       "      <td>53.756687</td>\n",
       "      <td>POINT (-10592433.400 3449785.973)</td>\n",
       "    </tr>\n",
       "    <tr>\n",
       "      <th>...</th>\n",
       "      <td>...</td>\n",
       "      <td>...</td>\n",
       "      <td>...</td>\n",
       "    </tr>\n",
       "    <tr>\n",
       "      <th>1004</th>\n",
       "      <td>1004</td>\n",
       "      <td>5.850607</td>\n",
       "      <td>POINT (-10472449.825 3446185.546)</td>\n",
       "    </tr>\n",
       "    <tr>\n",
       "      <th>1005</th>\n",
       "      <td>1005</td>\n",
       "      <td>5.850607</td>\n",
       "      <td>POINT (-10468683.857 3451079.828)</td>\n",
       "    </tr>\n",
       "    <tr>\n",
       "      <th>1006</th>\n",
       "      <td>1006</td>\n",
       "      <td>5.850607</td>\n",
       "      <td>POINT (-10465895.065 3455957.787)</td>\n",
       "    </tr>\n",
       "    <tr>\n",
       "      <th>1007</th>\n",
       "      <td>1007</td>\n",
       "      <td>5.850607</td>\n",
       "      <td>POINT (-10464105.938 3460785.792)</td>\n",
       "    </tr>\n",
       "    <tr>\n",
       "      <th>1008</th>\n",
       "      <td>1008</td>\n",
       "      <td>5.850607</td>\n",
       "      <td>POINT (-10463331.234 3465525.436)</td>\n",
       "    </tr>\n",
       "  </tbody>\n",
       "</table>\n",
       "<p>1009 rows × 3 columns</p>\n",
       "</div>"
      ],
      "text/plain": [
       "         i     PRECIP                           geometry\n",
       "0        0  53.756687  POINT (-10597401.790 3448413.006)\n",
       "1        1  53.756687  POINT (-10592161.467 3449289.050)\n",
       "2        2  53.756687  POINT (-10592213.002 3449464.674)\n",
       "3        3  53.756687  POINT (-10592303.862 3449630.690)\n",
       "4        4  53.756687  POINT (-10592433.400 3449785.973)\n",
       "...    ...        ...                                ...\n",
       "1004  1004   5.850607  POINT (-10472449.825 3446185.546)\n",
       "1005  1005   5.850607  POINT (-10468683.857 3451079.828)\n",
       "1006  1006   5.850607  POINT (-10465895.065 3455957.787)\n",
       "1007  1007   5.850607  POINT (-10464105.938 3460785.792)\n",
       "1008  1008   5.850607  POINT (-10463331.234 3465525.436)\n",
       "\n",
       "[1009 rows x 3 columns]"
      ]
     },
     "execution_count": 6,
     "metadata": {},
     "output_type": "execute_result"
    }
   ],
   "source": [
    "gdf"
   ]
  },
  {
   "cell_type": "code",
   "execution_count": 17,
   "metadata": {},
   "outputs": [
    {
     "data": {
      "text/plain": [
       "<AxesSubplot:>"
      ]
     },
     "execution_count": 17,
     "metadata": {},
     "output_type": "execute_result"
    },
    {
     "data": {
      "image/png": "[encoded data removed]",
      "text/plain": [
       "<Figure size 432x288 with 1 Axes>"
      ]
     },
     "metadata": {
      "needs_background": "light"
     },
     "output_type": "display_data"
    }
   ],
   "source": [
    "cvh = gdf.convex_hull\r\n",
    "cvh.plot(marker='o', color='red', markersize=0.1)\r\n"
   ]
  },
  {
   "cell_type": "code",
   "execution_count": 87,
   "metadata": {},
   "outputs": [
    {
     "data": {
      "text/plain": [
       "<AxesSubplot:>"
      ]
     },
     "execution_count": 87,
     "metadata": {},
     "output_type": "execute_result"
    },
    {
     "data": {
      "image/png": "[encoded data removed]",
      "text/plain": [
       "<Figure size 432x288 with 1 Axes>"
      ]
     },
     "metadata": {
      "needs_background": "light"
     },
     "output_type": "display_data"
    }
   ],
   "source": [
    "cvh = gdf.dissolve(\"PRECIP\").convex_hull\r\n",
    "cvh.to_crs(epsg=4326)\r\n",
    "cvh.plot(alpha=.2, cmap=\"gist_ncar\")"
   ]
  },
  {
   "cell_type": "code",
   "execution_count": 88,
   "metadata": {},
   "outputs": [],
   "source": [
    "cvh.to_file(\"out.geojson\", driver='GeoJSON')"
   ]
  },
  {
   "cell_type": "code",
   "execution_count": 84,
   "metadata": {},
   "outputs": [
    {
     "data": {
      "text/plain": [
       "<AxesSubplot:>"
      ]
     },
     "execution_count": 84,
     "metadata": {},
     "output_type": "execute_result"
    },
    {
     "data": {
      "image/png": "[encoded data removed]",
      "text/plain": [
       "<Figure size 432x288 with 1 Axes>"
      ]
     },
     "metadata": {
      "needs_background": "light"
     },
     "output_type": "display_data"
    }
   ],
   "source": [
    "from shapely.geometry import Point, Polygon\r\n",
    "\r\n",
    "df = gdf.groupby('PRECIP')['geometry'].apply(lambda x: Polygon(x.tolist())).reset_index()\r\n",
    "\r\n",
    "# Declare the result as a new a GeoDataFrame\r\n",
    "# df = gdf.GeoDataFrame(df, geometry = 'geometry')\r\n",
    "# df.convex_hull\r\n",
    "df.plot(alpha=0.2, cmap='gist_ncar')\r\n",
    "# df"
   ]
  },
  {
   "cell_type": "code",
   "execution_count": null,
   "metadata": {},
   "outputs": [],
   "source": []
  },
  {
   "cell_type": "code",
   "execution_count": 41,
   "metadata": {},
   "outputs": [
    {
     "data": {
      "text/html": [
       "<div>\n",
       "<style scoped>\n",
       "    .dataframe tbody tr th:only-of-type {\n",
       "        vertical-align: middle;\n",
       "    }\n",
       "\n",
       "    .dataframe tbody tr th {\n",
       "        vertical-align: top;\n",
       "    }\n",
       "\n",
       "    .dataframe thead th {\n",
       "        text-align: right;\n",
       "    }\n",
       "</style>\n",
       "<table border=\"1\" class=\"dataframe\">\n",
       "  <thead>\n",
       "    <tr style=\"text-align: right;\">\n",
       "      <th></th>\n",
       "      <th>PRECIP</th>\n",
       "      <th>geometry</th>\n",
       "    </tr>\n",
       "  </thead>\n",
       "  <tbody>\n",
       "    <tr>\n",
       "      <th>0</th>\n",
       "      <td>5.850607</td>\n",
       "      <td>POLYGON ((-10463578.084 3470141.467, -10464845...</td>\n",
       "    </tr>\n",
       "    <tr>\n",
       "      <th>1</th>\n",
       "      <td>10.013613</td>\n",
       "      <td>POLYGON ((-10486085.438 3466582.240, -10487146...</td>\n",
       "    </tr>\n",
       "    <tr>\n",
       "      <th>2</th>\n",
       "      <td>14.116183</td>\n",
       "      <td>POLYGON ((-10506536.045 3463315.429, -10507406...</td>\n",
       "    </tr>\n",
       "    <tr>\n",
       "      <th>3</th>\n",
       "      <td>17.947426</td>\n",
       "      <td>POLYGON ((-10520492.082 3461067.500, -10521231...</td>\n",
       "    </tr>\n",
       "    <tr>\n",
       "      <th>4</th>\n",
       "      <td>22.074747</td>\n",
       "      <td>POLYGON ((-10533171.967 3459012.213, -10533792...</td>\n",
       "    </tr>\n",
       "    <tr>\n",
       "      <th>5</th>\n",
       "      <td>27.288162</td>\n",
       "      <td>POLYGON ((-10544966.341 3457089.074, -10545474...</td>\n",
       "    </tr>\n",
       "    <tr>\n",
       "      <th>6</th>\n",
       "      <td>33.046989</td>\n",
       "      <td>POLYGON ((-10553536.019 3455685.858, -10553961...</td>\n",
       "    </tr>\n",
       "    <tr>\n",
       "      <th>7</th>\n",
       "      <td>41.758446</td>\n",
       "      <td>POLYGON ((-10562234.896 3454255.482, -10562577...</td>\n",
       "    </tr>\n",
       "    <tr>\n",
       "      <th>8</th>\n",
       "      <td>43.909344</td>\n",
       "      <td>POLYGON ((-10568690.549 3453189.550, -10568970...</td>\n",
       "    </tr>\n",
       "    <tr>\n",
       "      <th>9</th>\n",
       "      <td>45.845135</td>\n",
       "      <td>POLYGON ((-10575475.166 3452066.727, -10575689...</td>\n",
       "    </tr>\n",
       "    <tr>\n",
       "      <th>10</th>\n",
       "      <td>47.573406</td>\n",
       "      <td>POLYGON ((-10580827.991 3451178.579, -10580990...</td>\n",
       "    </tr>\n",
       "    <tr>\n",
       "      <th>11</th>\n",
       "      <td>49.574543</td>\n",
       "      <td>POLYGON ((-10585683.084 3450370.757, -10585797...</td>\n",
       "    </tr>\n",
       "    <tr>\n",
       "      <th>12</th>\n",
       "      <td>51.659958</td>\n",
       "      <td>POLYGON ((-10589115.775 3449797.691, -10589197...</td>\n",
       "    </tr>\n",
       "    <tr>\n",
       "      <th>13</th>\n",
       "      <td>53.756687</td>\n",
       "      <td>POLYGON ((-10597401.790 3448413.006, -10592161...</td>\n",
       "    </tr>\n",
       "  </tbody>\n",
       "</table>\n",
       "</div>"
      ],
      "text/plain": [
       "       PRECIP                                           geometry\n",
       "0    5.850607  POLYGON ((-10463578.084 3470141.467, -10464845...\n",
       "1   10.013613  POLYGON ((-10486085.438 3466582.240, -10487146...\n",
       "2   14.116183  POLYGON ((-10506536.045 3463315.429, -10507406...\n",
       "3   17.947426  POLYGON ((-10520492.082 3461067.500, -10521231...\n",
       "4   22.074747  POLYGON ((-10533171.967 3459012.213, -10533792...\n",
       "5   27.288162  POLYGON ((-10544966.341 3457089.074, -10545474...\n",
       "6   33.046989  POLYGON ((-10553536.019 3455685.858, -10553961...\n",
       "7   41.758446  POLYGON ((-10562234.896 3454255.482, -10562577...\n",
       "8   43.909344  POLYGON ((-10568690.549 3453189.550, -10568970...\n",
       "9   45.845135  POLYGON ((-10575475.166 3452066.727, -10575689...\n",
       "10  47.573406  POLYGON ((-10580827.991 3451178.579, -10580990...\n",
       "11  49.574543  POLYGON ((-10585683.084 3450370.757, -10585797...\n",
       "12  51.659958  POLYGON ((-10589115.775 3449797.691, -10589197...\n",
       "13  53.756687  POLYGON ((-10597401.790 3448413.006, -10592161..."
      ]
     },
     "execution_count": 41,
     "metadata": {},
     "output_type": "execute_result"
    }
   ],
   "source": [
    "df"
   ]
  },
  {
   "cell_type": "code",
   "execution_count": 40,
   "metadata": {},
   "outputs": [
    {
     "data": {
      "text/plain": [
       "0    POLYGON ((1.00000 0.00000, 0.99518 -0.09802, 0...\n",
       "1    POLYGON ((2.00000 1.00000, 1.99518 0.90198, 1....\n",
       "2    POLYGON ((2.00000 0.00000, 1.99518 -0.09802, 1...\n",
       "dtype: geometry"
      ]
     },
     "execution_count": 40,
     "metadata": {},
     "output_type": "execute_result"
    }
   ],
   "source": [
    "import shapely.geometry\r\n",
    "import shapely.ops\r\n",
    "\r\n",
    "import itertools\r\n",
    "circle1 = shapely.geometry.Point(0, 0).buffer(1)\r\n",
    "circle2 = shapely.geometry.Point(1, 1).buffer(1)\r\n",
    "circle3 = shapely.geometry.Point(1, 0).buffer(1)\r\n",
    "s = gpd.GeoSeries([circle1, circle2, circle3])\r\n",
    "s"
   ]
  },
  {
   "cell_type": "code",
   "execution_count": 46,
   "metadata": {},
   "outputs": [
    {
     "data": {
      "text/plain": [
       "<AxesSubplot:>"
      ]
     },
     "execution_count": 46,
     "metadata": {},
     "output_type": "execute_result"
    },
    {
     "data": {
      "image/png": "[encoded data removed]",
      "text/plain": [
       "<Figure size 432x288 with 1 Axes>"
      ]
     },
     "metadata": {
      "needs_background": "light"
     },
     "output_type": "display_data"
    }
   ],
   "source": [
    "import itertools\r\n",
    "import pandas as pd\r\n",
    "all_intersections = [a.intersection(b) for a, b in list(itertools.combinations(df.geometry, 2))]\r\n",
    "# all_intersections\r\n",
    "s_all = pd.concat([s, gpd.GeoSeries(all_intersections)])\r\n",
    "s_all.boundary.plot(cmap='Set1', alpha=.5)"
   ]
  },
  {
   "cell_type": "code",
   "execution_count": 49,
   "metadata": {},
   "outputs": [
    {
     "data": {
      "text/plain": [
       "<AxesSubplot:>"
      ]
     },
     "execution_count": 49,
     "metadata": {},
     "output_type": "execute_result"
    },
    {
     "data": {
      "image/png": "[encoded data removed]",
      "text/plain": [
       "<Figure size 432x288 with 1 Axes>"
      ]
     },
     "metadata": {
      "needs_background": "light"
     },
     "output_type": "display_data"
    }
   ],
   "source": [
    "polys = list(shapely.ops.polygonize(s_all.boundary.unary_union))\r\n",
    "polys = gpd.GeoSeries(polys)\r\n",
    "polys.plot(cmap='Set1')"
   ]
  },
  {
   "cell_type": "code",
   "execution_count": 51,
   "metadata": {},
   "outputs": [
    {
     "data": {
      "text/plain": [
       "<bound method GeoSeries.plot of 0     POLYGON ((1.000 0.000, 0.995 -0.098, 0.981 -0....\n",
       "1     POLYGON ((0.500 -0.865, 0.556 -0.831, 0.634 -0...\n",
       "2     POLYGON ((0.500 -0.865, 0.471 -0.882, 0.383 -0...\n",
       "3     POLYGON ((0.000 1.000, 0.098 0.995, 0.195 0.98...\n",
       "4     POLYGON ((0.500 0.865, 0.471 0.882, 0.383 0.92...\n",
       "5     POLYGON ((0.500 0.865, 0.556 0.831, 0.634 0.77...\n",
       "6     POLYGON ((1.000 0.000, 0.995 0.098, 0.981 0.19...\n",
       "7     POLYGON ((-10485873.364 3462742.899, -10486510...\n",
       "8     POLYGON ((-10506357.887 3460181.639, -10506873...\n",
       "9     POLYGON ((-10520338.454 3458415.609, -10520771...\n",
       "10    POLYGON ((-10533041.412 3456796.470, -10533400...\n",
       "11    POLYGON ((-10544858.160 3455282.010, -10545149...\n",
       "12    POLYGON ((-10553444.416 3454172.401, -10553687...\n",
       "13    POLYGON ((-10562160.745 3453042.382, -10562354...\n",
       "14    POLYGON ((-10568629.373 3452199.389, -10568787...\n",
       "15    POLYGON ((-10575428.071 3451310.830, -10575548...\n",
       "16    POLYGON ((-10580792.229 3450606.873, -10580882...\n",
       "17    POLYGON ((-10585657.562 3449966.161, -10585721...\n",
       "18    POLYGON ((-10589097.718 3449512.445, -10589142...\n",
       "19    POLYGON ((-10592150.036 3449109.501, -10592178...\n",
       "dtype: geometry>"
      ]
     },
     "execution_count": 51,
     "metadata": {},
     "output_type": "execute_result"
    }
   ],
   "source": [
    "polys.plot"
   ]
  },
  {
   "cell_type": "code",
   "execution_count": 58,
   "metadata": {},
   "outputs": [
    {
     "data": {
      "text/plain": [
       "<AxesSubplot:>"
      ]
     },
     "execution_count": 58,
     "metadata": {},
     "output_type": "execute_result"
    },
    {
     "data": {
      "image/png": "[encoded data removed]",
      "text/plain": [
       "<Figure size 432x288 with 1 Axes>"
      ]
     },
     "metadata": {
      "needs_background": "light"
     },
     "output_type": "display_data"
    }
   ],
   "source": [
    "envgdf = gpd.GeoDataFrame(geometry=polys)\r\n",
    "envgdf['PRECIP'] = gdf.PRECIP\r\n",
    "envgdf.plot()"
   ]
  }
 ],
 "metadata": {
  "interpreter": {
   "hash": "bed8ea6dd1cfbdd33c18f445be54d49b203639a0b4ebf0230363255ca45c02fc"
  },
  "kernelspec": {
   "display_name": "Python 3.8.12 64-bit",
   "name": "python3"
  },
  "language_info": {
   "codemirror_mode": {
    "name": "ipython",
    "version": 3
   },
   "file_extension": ".py",
   "mimetype": "text/x-python",
   "name": "python",
   "nbconvert_exporter": "python",
   "pygments_lexer": "ipython3",
   "version": "3.8.12"
  },
  "orig_nbformat": 4
 },
 "nbformat": 4,
 "nbformat_minor": 2
}